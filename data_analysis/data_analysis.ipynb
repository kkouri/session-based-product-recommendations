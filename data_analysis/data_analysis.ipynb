{
 "cells": [
  {
   "cell_type": "markdown",
   "source": [
    "# Exploratory Data Analysis"
   ],
   "metadata": {
    "collapsed": false
   }
  },
  {
   "cell_type": "code",
   "execution_count": 1,
   "outputs": [
    {
     "name": "stdout",
     "output_type": "stream",
     "text": [
      "shape: (2_756_101, 5)\n",
      "┌────────────┬───────────┬───────┬────────┬───────────────┐\n",
      "│ timestamp  ┆ visitorid ┆ event ┆ itemid ┆ transactionid │\n",
      "│ ---        ┆ ---       ┆ ---   ┆ ---    ┆ ---           │\n",
      "│ u32        ┆ u32       ┆ str   ┆ str    ┆ u32           │\n",
      "╞════════════╪═══════════╪═══════╪════════╪═══════════════╡\n",
      "│ 1433221332 ┆ 257597    ┆ view  ┆ 355908 ┆ null          │\n",
      "│ 1433224214 ┆ 992329    ┆ view  ┆ 248676 ┆ null          │\n",
      "│ 1433221999 ┆ 111016    ┆ view  ┆ 318965 ┆ null          │\n",
      "│ 1433221955 ┆ 483717    ┆ view  ┆ 253185 ┆ null          │\n",
      "│ 1433221337 ┆ 951259    ┆ view  ┆ 367447 ┆ null          │\n",
      "│ …          ┆ …         ┆ …     ┆ …      ┆ …             │\n",
      "│ 1438398785 ┆ 591435    ┆ view  ┆ 261427 ┆ null          │\n",
      "│ 1438399813 ┆ 762376    ┆ view  ┆ 115946 ┆ null          │\n",
      "│ 1438397820 ┆ 1251746   ┆ view  ┆ 78144  ┆ null          │\n",
      "│ 1438398530 ┆ 1184451   ┆ view  ┆ 283392 ┆ null          │\n",
      "│ 1438400163 ┆ 199536    ┆ view  ┆ 152913 ┆ null          │\n",
      "└────────────┴───────────┴───────┴────────┴───────────────┘\n"
     ]
    }
   ],
   "source": [
    "import polars as pl\n",
    "\n",
    "# define the schema of the dataframe\n",
    "df_schema = {\"timestamp\": pl.UInt64, \"visitorid\": pl.UInt32, \"event\": pl.Utf8, \"itemid\": pl.Utf8, \"transactionid\": pl.UInt32}\n",
    "\n",
    "events_df = (\n",
    "    pl.read_csv('../data/events.csv', schema=df_schema, low_memory=True)\n",
    "    # Convert timestamp to seconds and cast to UInt32 to save memory\n",
    "    .with_columns((pl.col(\"timestamp\")//1000).cast(pl.UInt32))\n",
    ")\n",
    "\n",
    "print(events_df)"
   ],
   "metadata": {
    "collapsed": false
   }
  },
  {
   "cell_type": "code",
   "execution_count": 2,
   "outputs": [
    {
     "name": "stdout",
     "output_type": "stream",
     "text": [
      "shape: (1_372_863, 6)\n",
      "┌────────────┬───────────┬───────┬────────┬───────────────┬─────────┐\n",
      "│ timestamp  ┆ visitorid ┆ event ┆ itemid ┆ transactionid ┆ session │\n",
      "│ ---        ┆ ---       ┆ ---   ┆ ---    ┆ ---           ┆ ---     │\n",
      "│ u32        ┆ u32       ┆ str   ┆ str    ┆ u32           ┆ u32     │\n",
      "╞════════════╪═══════════╪═══════╪════════╪═══════════════╪═════════╡\n",
      "│ 1442004589 ┆ 0         ┆ view  ┆ 285930 ┆ null          ┆ 1       │\n",
      "│ 1442004759 ┆ 0         ┆ view  ┆ 357564 ┆ null          ┆ 1       │\n",
      "│ 1442004917 ┆ 0         ┆ view  ┆ 67045  ┆ null          ┆ 1       │\n",
      "│ 1438969904 ┆ 2         ┆ view  ┆ 325215 ┆ null          ┆ 3       │\n",
      "│ 1438970013 ┆ 2         ┆ view  ┆ 325215 ┆ null          ┆ 3       │\n",
      "│ …          ┆ …         ┆ …     ┆ …      ┆ …             ┆ …       │\n",
      "│ 1437973995 ┆ 1407573   ┆ view  ┆ 57720  ┆ null          ┆ 1761681 │\n",
      "│ 1438402327 ┆ 1407573   ┆ view  ┆ 363109 ┆ null          ┆ 1761682 │\n",
      "│ 1438402365 ┆ 1407573   ┆ view  ┆ 463766 ┆ null          ┆ 1761682 │\n",
      "│ 1438648367 ┆ 1407573   ┆ view  ┆ 82278  ┆ null          ┆ 1761683 │\n",
      "│ 1438648495 ┆ 1407573   ┆ view  ┆ 82278  ┆ null          ┆ 1761683 │\n",
      "└────────────┴───────────┴───────┴────────┴───────────────┴─────────┘\n"
     ]
    }
   ],
   "source": [
    "# Form sessions by splitting the events of a user to sessions based on time between the events\n",
    "# If the time between events is more than 30 minutes, it is considered a new session\n",
    "\n",
    "sessions_df = (\n",
    "    events_df\n",
    "    .sort([\"visitorid\", \"timestamp\"], descending=[False, False])\n",
    "    .with_columns(\n",
    "        previous_visitorid = pl.col(\"visitorid\").shift(1),\n",
    "        previous_timestamp = pl.col(\"timestamp\").shift(1),\n",
    "    )\n",
    "    .with_columns(\n",
    "        time_between_sec = pl.when(pl.col(\"previous_visitorid\") == pl.col(\"visitorid\")).then((pl.col(\"timestamp\") - pl.col(\"previous_timestamp\"))).otherwise(None)\n",
    "    )\n",
    "    .with_columns(\n",
    "        is_session_boundary = (pl.col(\"time_between_sec\").is_null() | (pl.col(\"time_between_sec\") >= 30*60))\n",
    "    )\n",
    "    .with_columns(\n",
    "        session = pl.col(\"is_session_boundary\").cum_sum().cast(pl.UInt32),\n",
    "    )\n",
    "    .drop([\"previous_visitorid\", \"previous_timestamp\", \"time_between_sec\", \"is_session_boundary\"])\n",
    "    # Count the amount of events in a session\n",
    "    .with_columns(events_count = (pl.col(\"timestamp\").rle_id().max().over(\"session\") + 1))\n",
    "    # Filter out sessions with only 1 event\n",
    "    .filter(pl.col(\"events_count\") > 1)\n",
    "    .drop(\"events_count\")\n",
    ")\n",
    "\n",
    "print(sessions_df)"
   ],
   "metadata": {
    "collapsed": false
   }
  },
  {
   "cell_type": "markdown",
   "source": [
    "### Train test split\n",
    "\n",
    "Train test split is done by splitting the data based on time. The last two weeks of the data is used as the test set and the 3 weeks before that are used as the training set.\n",
    "\n",
    "The train and test sets are filtered to only include sessions that have at least one cart or order event. This is done to make the test set more realistic and to make the evaluation more meaningful.\n",
    "The sessions that appear in the test set are removed from the training set to avoid data leakage."
   ],
   "metadata": {
    "collapsed": false
   }
  },
  {
   "cell_type": "code",
   "execution_count": 138,
   "outputs": [
    {
     "name": "stdout",
     "output_type": "stream",
     "text": [
      "Number of train sessions: 5967\n",
      "Number of test sessions: 3625\n",
      "\n",
      "Train df\n",
      "shape: (35_579, 6)\n",
      "┌────────────┬───────────┬───────────┬────────┬───────────────┬─────────┐\n",
      "│ timestamp  ┆ visitorid ┆ event     ┆ itemid ┆ transactionid ┆ session │\n",
      "│ ---        ┆ ---       ┆ ---       ┆ ---    ┆ ---           ┆ ---     │\n",
      "│ u32        ┆ u32       ┆ str       ┆ str    ┆ u32           ┆ u32     │\n",
      "╞════════════╪═══════════╪═══════════╪════════╪═══════════════╪═════════╡\n",
      "│ 1439599752 ┆ 172       ┆ view      ┆ 10034  ┆ null          ┆ 237     │\n",
      "│ 1439599816 ┆ 172       ┆ addtocart ┆ 10034  ┆ null          ┆ 237     │\n",
      "│ 1439599994 ┆ 172       ┆ view      ┆ 62300  ┆ null          ┆ 237     │\n",
      "│ 1439600123 ┆ 172       ┆ view      ┆ 202268 ┆ null          ┆ 237     │\n",
      "│ 1439600616 ┆ 172       ┆ view      ┆ 107943 ┆ null          ┆ 237     │\n",
      "│ …          ┆ …         ┆ …         ┆ …      ┆ …             ┆ …       │\n",
      "│ 1440453473 ┆ 1406910   ┆ addtocart ┆ 152134 ┆ null          ┆ 1760851 │\n",
      "│ 1440453500 ┆ 1406910   ┆ view      ┆ 431781 ┆ null          ┆ 1760851 │\n",
      "│ 1441097765 ┆ 1407430   ┆ view      ┆ 190000 ┆ null          ┆ 1761514 │\n",
      "│ 1441097982 ┆ 1407430   ┆ view      ┆ 190000 ┆ null          ┆ 1761514 │\n",
      "│ 1441098006 ┆ 1407430   ┆ addtocart ┆ 190000 ┆ null          ┆ 1761514 │\n",
      "└────────────┴───────────┴───────────┴────────┴───────────────┴─────────┘\n",
      "\n",
      "Test df\n",
      "shape: (22_513, 6)\n",
      "┌────────────┬───────────┬─────────────┬────────┬───────────────┬─────────┐\n",
      "│ timestamp  ┆ visitorid ┆ event       ┆ itemid ┆ transactionid ┆ session │\n",
      "│ ---        ┆ ---       ┆ ---         ┆ ---    ┆ ---           ┆ ---     │\n",
      "│ u32        ┆ u32       ┆ str         ┆ str    ┆ u32           ┆ u32     │\n",
      "╞════════════╪═══════════╪═════════════╪════════╪═══════════════╪═════════╡\n",
      "│ 1441951932 ┆ 155       ┆ addtocart   ┆ 368372 ┆ null          ┆ 211     │\n",
      "│ 1441951937 ┆ 155       ┆ addtocart   ┆ 452082 ┆ null          ┆ 211     │\n",
      "│ 1441951967 ┆ 155       ┆ addtocart   ┆ 181405 ┆ null          ┆ 211     │\n",
      "│ 1441952264 ┆ 155       ┆ addtocart   ┆ 41882  ┆ null          ┆ 211     │\n",
      "│ 1441952265 ┆ 155       ┆ addtocart   ┆ 442601 ┆ null          ┆ 211     │\n",
      "│ …          ┆ …         ┆ …           ┆ …      ┆ …             ┆ …       │\n",
      "│ 1441599603 ┆ 1406708   ┆ addtocart   ┆ 209184 ┆ null          ┆ 1760568 │\n",
      "│ 1441599688 ┆ 1406708   ┆ addtocart   ┆ 209184 ┆ null          ┆ 1760568 │\n",
      "│ 1441599889 ┆ 1406708   ┆ transaction ┆ 209184 ┆ 937           ┆ 1760568 │\n",
      "│ 1442248709 ┆ 1406732   ┆ view        ┆ 301462 ┆ null          ┆ 1760597 │\n",
      "│ 1442248749 ┆ 1406732   ┆ addtocart   ┆ 301462 ┆ null          ┆ 1760597 │\n",
      "└────────────┴───────────┴─────────────┴────────┴───────────────┴─────────┘\n"
     ]
    }
   ],
   "source": [
    "# Train test split\n",
    "\n",
    "max_ts = (\n",
    "    sessions_df\n",
    "    .select(\"timestamp\")\n",
    "    .max()\n",
    "    .item()\n",
    ")\n",
    "\n",
    "# 2 weeks\n",
    "test_start = max_ts - 2*7*24*60*60\n",
    "\n",
    "# 3 weeks\n",
    "train_start = test_start - 3*7*24*60*60\n",
    "\n",
    "# We are only interested in sessions containing cart or order events\n",
    "sessions_with_cart_or_order = (\n",
    "    sessions_df\n",
    "    .filter(pl.col(\"event\") != \"view\")\n",
    "    .group_by(\"session\")\n",
    "    .agg(pl.col(\"event\").unique().alias(\"unique_events\"))\n",
    "    .sort(\"session\")\n",
    "    .select(\"session\")\n",
    ")\n",
    "\n",
    "# Test dataset is 1 week before the last week\n",
    "test_df = (\n",
    "    sessions_df\n",
    "    .filter(pl.col(\"timestamp\") >= test_start)\n",
    "    # Count the amount of events in a session\n",
    "    .with_columns(events_count = (pl.col(\"timestamp\").rle_id().max().over(\"session\") + 1))\n",
    "    # Filter out sessions with only 1 event\n",
    "    .filter(pl.col(\"events_count\") > 1)\n",
    "    .drop(\"events_count\")\n",
    "    # Filter out sessions with only clicks\n",
    "    .join(sessions_with_cart_or_order, on=\"session\", how=\"inner\")\n",
    ")\n",
    "\n",
    "\n",
    "# Get unique test sessions\n",
    "test_sessions = test_df.select(\"session\").unique()\n",
    "\n",
    "\n",
    "# Train dataset is 3 weeks before the last week\n",
    "train_df = (\n",
    "    sessions_df\n",
    "    .filter((pl.col(\"timestamp\") >= train_start) & (pl.col(\"timestamp\") < test_start))\n",
    "    # Filter out sessions that appear in the test dataset\n",
    "    .join(test_sessions, on=\"session\", how=\"anti\")\n",
    "    # Count the amount of events in a session\n",
    "    .with_columns(events_count = (pl.col(\"timestamp\").rle_id().max().over(\"session\") + 1))\n",
    "    # Filter out sessions with only 1 event\n",
    "    .filter(pl.col(\"events_count\") > 1)\n",
    "    .drop(\"events_count\")\n",
    "    # Filter out sessions with only clicks\n",
    "    .join(sessions_with_cart_or_order, on=\"session\", how=\"inner\")\n",
    ")\n",
    "\n",
    "n_train_sessions = train_df.select(\"session\").n_unique()\n",
    "n_test_sessions = test_sessions.n_unique()\n",
    "print(\"Number of train sessions:\", n_train_sessions)\n",
    "print(\"Number of test sessions:\", n_test_sessions)\n",
    "print()\n",
    "\n",
    "print(\"Train df\")\n",
    "print(train_df)\n",
    "print()\n",
    "print(\"Test df\")\n",
    "print(test_df)"
   ],
   "metadata": {
    "collapsed": false
   }
  },
  {
   "cell_type": "markdown",
   "source": [
    "### Product category information"
   ],
   "metadata": {
    "collapsed": false
   }
  },
  {
   "cell_type": "code",
   "execution_count": 139,
   "outputs": [
    {
     "name": "stdout",
     "output_type": "stream",
     "text": [
      "shape: (31_407, 3)\n",
      "┌────────┬────────────┬──────────┐\n",
      "│ itemid ┆ categoryid ┆ parentid │\n",
      "│ ---    ┆ ---        ┆ ---      │\n",
      "│ u32    ┆ u32        ┆ u32      │\n",
      "╞════════╪════════════╪══════════╡\n",
      "│ 25     ┆ 72         ┆ 620      │\n",
      "│ 75     ┆ 1421       ┆ 105      │\n",
      "│ 94     ┆ 1147       ┆ 1027     │\n",
      "│ 94     ┆ 1244       ┆ 500      │\n",
      "│ 100    ┆ 618        ┆ 105      │\n",
      "│ …      ┆ …          ┆ …        │\n",
      "│ 466768 ┆ 1147       ┆ 1027     │\n",
      "│ 466768 ┆ 1244       ┆ 500      │\n",
      "│ 466783 ┆ 1114       ┆ 113      │\n",
      "│ 466829 ┆ 438        ┆ 312      │\n",
      "│ 466829 ┆ 1277       ┆ 312      │\n",
      "└────────┴────────────┴──────────┘\n"
     ]
    }
   ],
   "source": [
    "# category tree\n",
    "df_schema = {\"categoryid\": pl.UInt32, \"parentid\": pl.UInt32}\n",
    "category_tree_df = (\n",
    "    pl.read_csv('../data/category_tree.csv', schema=df_schema, low_memory=True)\n",
    ")\n",
    "\n",
    "# item categories\n",
    "# we keep timestamp since there is possibility that the category changes over time\n",
    "df_schema = {\"timestamp\": pl.UInt64, \"itemid\": pl.UInt32, \"property\": pl.Utf8, \"value\": pl.Utf8}\n",
    "item_categories_df = (\n",
    "    pl.concat([\n",
    "        pl.read_csv('../data/item_properties_part1.csv', schema=df_schema, low_memory=True),\n",
    "        pl.read_csv('../data/item_properties_part2.csv', schema=df_schema, low_memory=True)\n",
    "    ])\n",
    "    # Convert timestamp to seconds and cast to UInt32 to save memory\n",
    "    .with_columns((pl.col(\"timestamp\")//1000).cast(pl.UInt32))\n",
    "    # Filter all but categoryid\n",
    "    .filter(pl.col(\"property\") == \"categoryid\")\n",
    "    .with_columns(categoryid = pl.col(\"value\").cast(pl.UInt32))\n",
    "    .drop([\"property\", \"value\"])\n",
    "    # Find the parentid for each categoryid. If parentid is null, use categoryid as parentid\n",
    "    .join(category_tree_df, on=\"categoryid\", how=\"left\")\n",
    "    .with_columns(parentid = pl.col(\"parentid\").fill_null(pl.col(\"categoryid\")))\n",
    "    # Filter by train timestamp\n",
    "    .filter(pl.col(\"timestamp\") >= train_start, pl.col(\"timestamp\") < test_start)\n",
    "    .drop(\"timestamp\")\n",
    "    .unique()\n",
    "    .sort([\"itemid\", \"categoryid\", \"parentid\"])\n",
    ")\n",
    "\n",
    "print(item_categories_df)"
   ],
   "metadata": {
    "collapsed": false
   }
  },
  {
   "cell_type": "markdown",
   "source": [
    "### Amount of events per session"
   ],
   "metadata": {
    "collapsed": false
   }
  },
  {
   "cell_type": "code",
   "execution_count": 140,
   "outputs": [
    {
     "name": "stdout",
     "output_type": "stream",
     "text": [
      "shape: (5_967, 1)\n",
      "┌──────────────┐\n",
      "│ events_count │\n",
      "│ ---          │\n",
      "│ u32          │\n",
      "╞══════════════╡\n",
      "│ 2            │\n",
      "│ 2            │\n",
      "│ 2            │\n",
      "│ 2            │\n",
      "│ 2            │\n",
      "│ …            │\n",
      "│ 94           │\n",
      "│ 101          │\n",
      "│ 119          │\n",
      "│ 125          │\n",
      "│ 129          │\n",
      "└──────────────┘\n",
      "shape: (9, 2)\n",
      "┌────────────┬──────────────┐\n",
      "│ statistic  ┆ events_count │\n",
      "│ ---        ┆ ---          │\n",
      "│ str        ┆ f64          │\n",
      "╞════════════╪══════════════╡\n",
      "│ count      ┆ 5967.0       │\n",
      "│ null_count ┆ 0.0          │\n",
      "│ mean       ┆ 5.962628     │\n",
      "│ std        ┆ 8.094301     │\n",
      "│ min        ┆ 2.0          │\n",
      "│ 25%        ┆ 2.0          │\n",
      "│ 50%        ┆ 4.0          │\n",
      "│ 75%        ┆ 6.0          │\n",
      "│ max        ┆ 129.0        │\n",
      "└────────────┴──────────────┘\n"
     ]
    }
   ],
   "source": [
    "# amount of events per session\n",
    "events_count = (\n",
    "    train_df\n",
    "    .group_by(\"session\")\n",
    "    .agg(pl.len().alias(\"events_count\"))\n",
    "    .sort(\"events_count\")\n",
    "    .select(\"events_count\")\n",
    ")\n",
    "\n",
    "print(events_count)\n",
    "print(events_count.describe())"
   ],
   "metadata": {
    "collapsed": false
   }
  },
  {
   "cell_type": "code",
   "execution_count": 141,
   "outputs": [
    {
     "name": "stdout",
     "output_type": "stream",
     "text": [
      "Percentage of sessions with less than 100 events: 99.93%\n",
      "Percentage of sessions with less than 10 events: 86.53%\n",
      "Percentage of sessions with less than 5 events: 63.40%\n",
      "Percentage of sessions with 2 events: 26.63%\n"
     ]
    }
   ],
   "source": [
    "# Count how many percent are under 100 events\n",
    "under_100 = events_count.filter(pl.col(\"events_count\") < 100).height\n",
    "total = events_count.height\n",
    "print(f\"Percentage of sessions with less than 100 events: {under_100 / total * 100:.2f}%\")\n",
    "\n",
    "# Count how many percent are under 10 events\n",
    "under_10 = events_count.filter(pl.col(\"events_count\") < 10).height\n",
    "total = events_count.height\n",
    "print(f\"Percentage of sessions with less than 10 events: {under_10 / total * 100:.2f}%\")\n",
    "\n",
    "# Count how many percent are under 5 events\n",
    "under_5 = events_count.filter(pl.col(\"events_count\") < 5).height\n",
    "total = events_count.height\n",
    "print(f\"Percentage of sessions with less than 5 events: {under_5 / total * 100:.2f}%\")\n",
    "\n",
    "# Count how many percent are 2 events\n",
    "exactly_2 = events_count.filter(pl.col(\"events_count\") == 2).height\n",
    "total = events_count.height\n",
    "print(f\"Percentage of sessions with 2 events: {exactly_2 / total * 100:.2f}%\")"
   ],
   "metadata": {
    "collapsed": false
   }
  },
  {
   "cell_type": "code",
   "execution_count": 142,
   "outputs": [
    {
     "data": {
      "text/plain": "<Figure size 1000x500 with 1 Axes>",
      "image/png": "[encoded data removed]"
     },
     "metadata": {},
     "output_type": "display_data"
    },
    {
     "data": {
      "text/plain": "<Figure size 1000x500 with 1 Axes>",
      "image/png": "[encoded data removed]"
     },
     "metadata": {},
     "output_type": "display_data"
    }
   ],
   "source": [
    "import matplotlib.pyplot as plt\n",
    "\n",
    "plt.figure(figsize=(10, 5))\n",
    "plt.hist(events_count.to_numpy(), bins=120)\n",
    "plt.title(\"Amount of events per session\")\n",
    "plt.xlabel(\"Amount of events\")\n",
    "plt.ylabel(\"Amount of sessions\")\n",
    "plt.show()\n",
    "\n",
    "plt.figure(figsize=(10, 5))\n",
    "plt.hist(events_count.filter(pl.col(\"events_count\") < 30).to_numpy(), bins=30)\n",
    "plt.title(\"Amount of events per session. < 30 events\")\n",
    "plt.xlabel(\"Amount of events\")\n",
    "plt.ylabel(\"Amount of sessions\")\n",
    "plt.show()"
   ],
   "metadata": {
    "collapsed": false
   }
  },
  {
   "cell_type": "markdown",
   "source": [
    "### Amount of each event type"
   ],
   "metadata": {
    "collapsed": false
   }
  },
  {
   "cell_type": "code",
   "execution_count": 143,
   "outputs": [
    {
     "name": "stdout",
     "output_type": "stream",
     "text": [
      "shape: (3, 2)\n",
      "┌─────────────┬───────┐\n",
      "│ event       ┆ count │\n",
      "│ ---         ┆ ---   │\n",
      "│ str         ┆ u32   │\n",
      "╞═════════════╪═══════╡\n",
      "│ transaction ┆ 3025  │\n",
      "│ addtocart   ┆ 9164  │\n",
      "│ view        ┆ 23390 │\n",
      "└─────────────┴───────┘\n"
     ]
    }
   ],
   "source": [
    "# count amount of each event type\n",
    "event_type_count = (\n",
    "    train_df\n",
    "    .group_by(\"event\")\n",
    "    .agg(pl.count(\"event\").alias(\"count\"))\n",
    "    .sort(\"count\")\n",
    ")\n",
    "\n",
    "print(event_type_count)"
   ],
   "metadata": {
    "collapsed": false
   }
  },
  {
   "cell_type": "code",
   "execution_count": 104,
   "outputs": [],
   "source": [
    "def add_labels(x,y):\n",
    "    for i in range(len(x)):\n",
    "        if isinstance(y[i], float):\n",
    "            plt.text(i, y[i], f\"{y[i]:.2f}\", ha = 'center')\n",
    "        else:\n",
    "            plt.text(i, y[i], y[i], ha = 'center')"
   ],
   "metadata": {
    "collapsed": false
   }
  },
  {
   "cell_type": "code",
   "execution_count": 106,
   "outputs": [
    {
     "data": {
      "text/plain": "<Figure size 1000x500 with 1 Axes>",
      "image/png": "[encoded data removed]"
     },
     "metadata": {},
     "output_type": "display_data"
    }
   ],
   "source": [
    "plt.figure(figsize=(10, 5))\n",
    "plt.bar(event_type_count[\"event\"].to_numpy(), event_type_count[\"count\"].to_numpy())\n",
    "add_labels(event_type_count[\"event\"].to_numpy(), event_type_count[\"count\"].to_numpy())\n",
    "plt.title(\"Amount of each event type\")\n",
    "plt.xlabel(\"Event type\")\n",
    "plt.ylabel(\"Amount of events\")\n",
    "plt.show()"
   ],
   "metadata": {
    "collapsed": false
   }
  },
  {
   "cell_type": "markdown",
   "source": [
    "### Amount of events per itemid"
   ],
   "metadata": {
    "collapsed": false
   }
  },
  {
   "cell_type": "code",
   "execution_count": 107,
   "outputs": [
    {
     "name": "stdout",
     "output_type": "stream",
     "text": [
      "shape: (10_366, 2)\n",
      "┌────────┬──────────────┐\n",
      "│ itemid ┆ events_count │\n",
      "│ ---    ┆ ---          │\n",
      "│ str    ┆ u32          │\n",
      "╞════════╪══════════════╡\n",
      "│ 231590 ┆ 1            │\n",
      "│ 392194 ┆ 1            │\n",
      "│ 329467 ┆ 1            │\n",
      "│ 400188 ┆ 1            │\n",
      "│ 27701  ┆ 1            │\n",
      "│ …      ┆ …            │\n",
      "│ 546    ┆ 78           │\n",
      "│ 312728 ┆ 85           │\n",
      "│ 248455 ┆ 99           │\n",
      "│ 320130 ┆ 164          │\n",
      "│ 461686 ┆ 204          │\n",
      "└────────┴──────────────┘\n",
      "shape: (9, 2)\n",
      "┌────────────┬──────────────┐\n",
      "│ statistic  ┆ events_count │\n",
      "│ ---        ┆ ---          │\n",
      "│ str        ┆ f64          │\n",
      "╞════════════╪══════════════╡\n",
      "│ count      ┆ 10366.0      │\n",
      "│ null_count ┆ 0.0          │\n",
      "│ mean       ┆ 3.432279     │\n",
      "│ std        ┆ 5.086042     │\n",
      "│ min        ┆ 1.0          │\n",
      "│ 25%        ┆ 1.0          │\n",
      "│ 50%        ┆ 2.0          │\n",
      "│ 75%        ┆ 4.0          │\n",
      "│ max        ┆ 204.0        │\n",
      "└────────────┴──────────────┘\n"
     ]
    }
   ],
   "source": [
    "# count amount of events per itemid\n",
    "events_per_itemid = (\n",
    "    train_df\n",
    "    .select(\"itemid\")\n",
    "    .group_by(\"itemid\")\n",
    "    .agg(\n",
    "        pl.count(\"itemid\")\n",
    "        .alias(\"events_count\")\n",
    "    )\n",
    "    .sort(\"events_count\")\n",
    ")\n",
    "\n",
    "print(events_per_itemid)\n",
    "print(events_per_itemid.select(\"events_count\").describe())\n",
    "\n",
    "event_counts_distribution = (\n",
    "    events_per_itemid\n",
    "    .select(\"events_count\")\n",
    "    .group_by(\"events_count\")\n",
    "    .agg(\n",
    "        pl.count(\"events_count\")\n",
    "        .alias(\"itemids_count\")\n",
    "    )\n",
    "    .sort(\"events_count\")\n",
    ")"
   ],
   "metadata": {
    "collapsed": false
   }
  },
  {
   "cell_type": "code",
   "execution_count": 108,
   "outputs": [
    {
     "name": "stdout",
     "output_type": "stream",
     "text": [
      "[38.98321435462088, 31.87343237507235, 13.698630136986301, 10.55373335905846, 3.9552382789890026, 0.9357514952730079]\n",
      "100.0\n"
     ]
    },
    {
     "data": {
      "text/plain": "<Figure size 1500x500 with 1 Axes>",
      "image/png": "[encoded data removed]"
     },
     "metadata": {},
     "output_type": "display_data"
    }
   ],
   "source": [
    "def get_percentage_under_n_events(amount_of_events):\n",
    "    percentages = []\n",
    "    labels = []\n",
    "\n",
    "    total = events_per_itemid.height\n",
    "    len_events = len(amount_of_events)\n",
    "    for i in range(len_events):\n",
    "        if i == 0:\n",
    "            count = events_per_itemid.filter(pl.col(\"events_count\") <= amount_of_events[i]).height\n",
    "            percentages.append(count / total * 100)\n",
    "            labels.append(f\"<= {amount_of_events[i]}\")\n",
    "            continue\n",
    "\n",
    "        n1 = amount_of_events[i-1]\n",
    "        n2 = amount_of_events[i]\n",
    "\n",
    "        count = events_per_itemid.filter(pl.col(\"events_count\") > n1, pl.col(\"events_count\") <= n2).height\n",
    "        percentages.append(count / total * 100)\n",
    "        labels.append(f\"{n1+1} - {n2}\")\n",
    "\n",
    "        if i == len_events-1:\n",
    "            count = events_per_itemid.filter(pl.col(\"events_count\") > amount_of_events[i]).height\n",
    "            percentages.append(count / total * 100)\n",
    "            labels.append(f\"> {amount_of_events[i]}\")\n",
    "            continue\n",
    "\n",
    "    return percentages, labels\n",
    "\n",
    "amount_of_events = [1, 3, 5, 10, 20]\n",
    "percentages, labels = get_percentage_under_n_events(amount_of_events)\n",
    "print(percentages)\n",
    "print(sum(percentages))\n",
    "\n",
    "plt.figure(figsize=(15, 5))\n",
    "plt.bar(labels, percentages)\n",
    "add_labels(labels, percentages)\n",
    "plt.title(\"Distribution of amount of events per itemid\")\n",
    "plt.xlabel(\"Amount of events\")\n",
    "plt.ylabel(\"Percentage of itemids\")\n",
    "plt.show()"
   ],
   "metadata": {
    "collapsed": false
   }
  },
  {
   "cell_type": "markdown",
   "source": [
    "The distribution of the amount of events per itemid is very skewed. many itemids have very few events, while a few have a lot of events."
   ],
   "metadata": {
    "collapsed": false
   }
  },
  {
   "cell_type": "markdown",
   "source": [
    "itemid"
   ],
   "metadata": {
    "collapsed": false
   }
  },
  {
   "cell_type": "code",
   "execution_count": 170,
   "outputs": [
    {
     "name": "stdout",
     "output_type": "stream",
     "text": [
      "shape: (9, 2)\n",
      "┌────────────┬─────────────┐\n",
      "│ statistic  ┆ views_count │\n",
      "│ ---        ┆ ---         │\n",
      "│ str        ┆ f64         │\n",
      "╞════════════╪═════════════╡\n",
      "│ count      ┆ 9640.0      │\n",
      "│ null_count ┆ 0.0         │\n",
      "│ mean       ┆ 2.426349    │\n",
      "│ std        ┆ 3.28647     │\n",
      "│ min        ┆ 1.0         │\n",
      "│ 25%        ┆ 1.0         │\n",
      "│ 50%        ┆ 1.0         │\n",
      "│ 75%        ┆ 3.0         │\n",
      "│ max        ┆ 119.0       │\n",
      "└────────────┴─────────────┘\n",
      "shape: (9, 2)\n",
      "┌────────────┬─────────────┐\n",
      "│ statistic  ┆ carts_count │\n",
      "│ ---        ┆ ---         │\n",
      "│ str        ┆ f64         │\n",
      "╞════════════╪═════════════╡\n",
      "│ count      ┆ 5490.0      │\n",
      "│ null_count ┆ 0.0         │\n",
      "│ mean       ┆ 1.669217    │\n",
      "│ std        ┆ 1.805303    │\n",
      "│ min        ┆ 1.0         │\n",
      "│ 25%        ┆ 1.0         │\n",
      "│ 50%        ┆ 1.0         │\n",
      "│ 75%        ┆ 2.0         │\n",
      "│ max        ┆ 61.0        │\n",
      "└────────────┴─────────────┘\n",
      "shape: (9, 2)\n",
      "┌────────────┬─────────────────┐\n",
      "│ statistic  ┆ purchases_count │\n",
      "│ ---        ┆ ---             │\n",
      "│ str        ┆ f64             │\n",
      "╞════════════╪═════════════════╡\n",
      "│ count      ┆ 2261.0          │\n",
      "│ null_count ┆ 0.0             │\n",
      "│ mean       ┆ 1.337904        │\n",
      "│ std        ┆ 1.136257        │\n",
      "│ min        ┆ 1.0             │\n",
      "│ 25%        ┆ 1.0             │\n",
      "│ 50%        ┆ 1.0             │\n",
      "│ 75%        ┆ 1.0             │\n",
      "│ max        ┆ 24.0            │\n",
      "└────────────┴─────────────────┘\n"
     ]
    }
   ],
   "source": [
    "# count amount of views per itemid\n",
    "views_per_itemid = (\n",
    "    train_df\n",
    "    .filter(pl.col(\"event\") == \"view\")\n",
    "    .select(\"itemid\")\n",
    "    .group_by(\"itemid\")\n",
    "    .agg(\n",
    "        pl.count(\"itemid\")\n",
    "        .alias(\"views_count\")\n",
    "    )\n",
    "    .sort(\"views_count\")\n",
    ")\n",
    "\n",
    "# print(views_per_itemid)\n",
    "print(views_per_itemid.select(\"views_count\").describe())\n",
    "\n",
    "# count amount of carts per itemid\n",
    "carts_per_itemid = (\n",
    "    train_df\n",
    "    .filter(pl.col(\"event\") == \"addtocart\")\n",
    "    .select(\"itemid\")\n",
    "    .group_by(\"itemid\")\n",
    "    .agg(\n",
    "        pl.count(\"itemid\")\n",
    "        .alias(\"carts_count\")\n",
    "    )\n",
    "    .sort(\"carts_count\")\n",
    ")\n",
    "\n",
    "# print(carts_per_itemid)\n",
    "print(carts_per_itemid.select(\"carts_count\").describe())\n",
    "\n",
    "# count amount of purchases per itemid\n",
    "purchases_per_itemid = (\n",
    "    train_df\n",
    "    .filter(pl.col(\"event\") == \"transaction\")\n",
    "    .select(\"itemid\")\n",
    "    .group_by(\"itemid\")\n",
    "    .agg(\n",
    "        pl.count(\"itemid\")\n",
    "        .alias(\"purchases_count\")\n",
    "    )\n",
    "    .sort(\"purchases_count\")\n",
    ")\n",
    "\n",
    "# print(purchases_per_itemid)\n",
    "print(purchases_per_itemid.select(\"purchases_count\").describe())"
   ],
   "metadata": {
    "collapsed": false
   }
  },
  {
   "cell_type": "markdown",
   "source": [
    "Median view count is 1. Top 25 % of items have 3 or more views.\n",
    "Median cart count is 1. Top 25 % of items have 2 or more carts.\n",
    "Median order count is 1. Top 25 % of items have 1 or more orders."
   ],
   "metadata": {
    "collapsed": false
   }
  },
  {
   "cell_type": "markdown",
   "source": [
    "itemid"
   ],
   "metadata": {
    "collapsed": false
   }
  },
  {
   "cell_type": "code",
   "execution_count": 113,
   "outputs": [
    {
     "name": "stdout",
     "output_type": "stream",
     "text": [
      "Amount of sessions: 5967\n",
      "Amount of items: 10366\n"
     ]
    }
   ],
   "source": [
    "# Count the amount of sessions\n",
    "sessions_count = train_df.select(\"session\").n_unique()\n",
    "print(\"Amount of sessions:\", sessions_count)\n",
    "\n",
    "# Count unique items\n",
    "items_count = train_df.select(\"itemid\").n_unique()\n",
    "print(\"Amount of items:\", items_count)"
   ],
   "metadata": {
    "collapsed": false
   }
  },
  {
   "cell_type": "markdown",
   "source": [
    "### Amount of items with views, carts and purchases"
   ],
   "metadata": {
    "collapsed": false
   }
  },
  {
   "cell_type": "code",
   "execution_count": 115,
   "outputs": [
    {
     "name": "stdout",
     "output_type": "stream",
     "text": [
      "Unique aids: 10366\n",
      "Unique aids with clicks: 9640, 93.00%\n",
      "Unique aids with carts: 5490, 52.96%\n",
      "Unique aids with orders: 2261, 21.81%\n"
     ]
    }
   ],
   "source": [
    "itemids_with_views = (\n",
    "    train_df\n",
    "    .filter(pl.col(\"event\") == \"view\")\n",
    "    .select(\"itemid\")\n",
    "    .n_unique()\n",
    ")\n",
    "\n",
    "itemids_with_carts = (\n",
    "    train_df\n",
    "    .filter(pl.col(\"event\") == \"addtocart\")\n",
    "    .select(\"itemid\")\n",
    "    .n_unique()\n",
    ")\n",
    "\n",
    "itemids_with_purchases = (\n",
    "    train_df\n",
    "    .filter(pl.col(\"event\") == \"transaction\")\n",
    "    .select(\"itemid\")\n",
    "    .n_unique()\n",
    ")\n",
    "\n",
    "print(f\"Unique itemids: {items_count}\")\n",
    "print(f\"Unique itemids with clicks: {itemids_with_views}, {itemids_with_views / items_count * 100:.2f}%\")\n",
    "print(f\"Unique itemids with carts: {itemids_with_carts}, {itemids_with_carts / items_count * 100:.2f}%\")\n",
    "print(f\"Unique itemids with orders: {itemids_with_purchases}, {itemids_with_purchases / items_count * 100:.2f}%\")"
   ],
   "metadata": {
    "collapsed": false
   }
  },
  {
   "cell_type": "markdown",
   "source": [
    "### Session length in hours"
   ],
   "metadata": {
    "collapsed": false
   }
  },
  {
   "cell_type": "code",
   "execution_count": 147,
   "outputs": [
    {
     "name": "stdout",
     "output_type": "stream",
     "text": [
      "shape: (5_967, 2)\n",
      "┌─────────┬────────────────────────┐\n",
      "│ session ┆ session_length_minutes │\n",
      "│ ---     ┆ ---                    │\n",
      "│ u32     ┆ f64                    │\n",
      "╞═════════╪════════════════════════╡\n",
      "│ 407478  ┆ 0.016667               │\n",
      "│ 1586520 ┆ 0.016667               │\n",
      "│ 1089257 ┆ 0.016667               │\n",
      "│ 197779  ┆ 0.016667               │\n",
      "│ 577545  ┆ 0.016667               │\n",
      "│ …       ┆ …                      │\n",
      "│ 1244930 ┆ 420.133333             │\n",
      "│ 1439684 ┆ 432.883333             │\n",
      "│ 663401  ┆ 509.616667             │\n",
      "│ 1244937 ┆ 511.7                  │\n",
      "│ 309926  ┆ 589.383333             │\n",
      "└─────────┴────────────────────────┘\n",
      "shape: (9, 2)\n",
      "┌────────────┬────────────────────────┐\n",
      "│ statistic  ┆ session_length_minutes │\n",
      "│ ---        ┆ ---                    │\n",
      "│ str        ┆ f64                    │\n",
      "╞════════════╪════════════════════════╡\n",
      "│ count      ┆ 5967.0                 │\n",
      "│ null_count ┆ 0.0                    │\n",
      "│ mean       ┆ 15.589688              │\n",
      "│ std        ┆ 31.927599              │\n",
      "│ min        ┆ 0.016667               │\n",
      "│ 25%        ┆ 1.816667               │\n",
      "│ 50%        ┆ 6.033333               │\n",
      "│ 75%        ┆ 17.25                  │\n",
      "│ max        ┆ 589.383333             │\n",
      "└────────────┴────────────────────────┘\n",
      "Percentage of sessions of under 15 min: 72.01%\n",
      "Percentage of sessions of under 30 min: 86.89%\n",
      "Percentage of sessions of under 1 hour: 95.44%\n",
      "Percentage of sessions of under 2 hour: 98.49%\n"
     ]
    }
   ],
   "source": [
    "# session length is counted as the last_ts - first_ts\n",
    "session_length_minutes = (\n",
    "    train_df\n",
    "    .with_columns(\n",
    "        max_ts=pl.col(\"timestamp\").max().over(\"session\"),\n",
    "        min_ts=pl.col(\"timestamp\").min().over(\"session\"),\n",
    "    )\n",
    "    .with_columns(session_length_minutes = (pl.col(\"max_ts\") - pl.col(\"min_ts\")) / 60)\n",
    "    .select(\"session\", \"session_length_minutes\")\n",
    "    .unique()\n",
    "    .sort(\"session_length_minutes\")\n",
    ")\n",
    "\n",
    "print(session_length_minutes)\n",
    "\n",
    "print(session_length_minutes.select(\"session_length_minutes\").describe())\n",
    "\n",
    "sessions_under_30_min_percentage = session_length_minutes.filter(pl.col(\"session_length_minutes\") < 15).height / session_length_minutes.height * 100\n",
    "print(f\"Percentage of sessions of under 15 min: {sessions_under_30_min_percentage:.2f}%\")\n",
    "\n",
    "sessions_under_30_min_percentage = session_length_minutes.filter(pl.col(\"session_length_minutes\") < 30).height / session_length_minutes.height * 100\n",
    "print(f\"Percentage of sessions of under 30 min: {sessions_under_30_min_percentage:.2f}%\")\n",
    "\n",
    "sessions_under_hour_percentage = session_length_minutes.filter(pl.col(\"session_length_minutes\") < 60).height / session_length_minutes.height * 100\n",
    "print(f\"Percentage of sessions of under 1 hour: {sessions_under_hour_percentage:.2f}%\")\n",
    "\n",
    "sessions_under_hour_percentage = session_length_minutes.filter(pl.col(\"session_length_minutes\") < 2*60).height / session_length_minutes.height * 100\n",
    "print(f\"Percentage of sessions of under 2 hour: {sessions_under_hour_percentage:.2f}%\")"
   ],
   "metadata": {
    "collapsed": false
   }
  },
  {
   "cell_type": "markdown",
   "source": [
    "The vast majority of sessions are relatively short"
   ],
   "metadata": {
    "collapsed": false
   }
  },
  {
   "cell_type": "markdown",
   "source": [
    "### Example of a long session"
   ],
   "metadata": {
    "collapsed": false
   }
  },
  {
   "cell_type": "code",
   "execution_count": 156,
   "outputs": [
    {
     "name": "stdout",
     "output_type": "stream",
     "text": [
      "shape: (125, 6)\n",
      "┌────────────┬───────────┬───────────┬────────┬───────────────┬─────────┐\n",
      "│ timestamp  ┆ visitorid ┆ event     ┆ itemid ┆ transactionid ┆ session │\n",
      "│ ---        ┆ ---       ┆ ---       ┆ ---    ┆ ---           ┆ ---     │\n",
      "│ u32        ┆ u32       ┆ str       ┆ str    ┆ u32           ┆ u32     │\n",
      "╞════════════╪═══════════╪═══════════╪════════╪═══════════════╪═════════╡\n",
      "│ 1439911017 ┆ 247235    ┆ view      ┆ 440937 ┆ null          ┆ 309926  │\n",
      "│ 1439911286 ┆ 247235    ┆ view      ┆ 182533 ┆ null          ┆ 309926  │\n",
      "│ 1439911386 ┆ 247235    ┆ view      ┆ 155299 ┆ null          ┆ 309926  │\n",
      "│ 1439911662 ┆ 247235    ┆ view      ┆ 179005 ┆ null          ┆ 309926  │\n",
      "│ 1439911675 ┆ 247235    ┆ view      ┆ 95263  ┆ null          ┆ 309926  │\n",
      "│ …          ┆ …         ┆ …         ┆ …      ┆ …             ┆ …       │\n",
      "│ 1439945115 ┆ 247235    ┆ view      ┆ 32191  ┆ null          ┆ 309926  │\n",
      "│ 1439946146 ┆ 247235    ┆ view      ┆ 223366 ┆ null          ┆ 309926  │\n",
      "│ 1439946185 ┆ 247235    ┆ addtocart ┆ 223366 ┆ null          ┆ 309926  │\n",
      "│ 1439946213 ┆ 247235    ┆ view      ┆ 223366 ┆ null          ┆ 309926  │\n",
      "│ 1439946380 ┆ 247235    ┆ addtocart ┆ 450082 ┆ null          ┆ 309926  │\n",
      "└────────────┴───────────┴───────────┴────────┴───────────────┴─────────┘\n"
     ]
    }
   ],
   "source": [
    "longest_session = (\n",
    "    session_length_minutes\n",
    "    .sort(\"session_length_minutes\", descending=True)\n",
    "    .head(1)\n",
    "    .select(\"session\")\n",
    "    .item()\n",
    ")\n",
    "\n",
    "longest_session_events = (\n",
    "    train_df\n",
    "    .filter(pl.col(\"session\") == longest_session)\n",
    "    .sort(\"timestamp\")\n",
    ")\n",
    "\n",
    "print(longest_session_events)"
   ],
   "metadata": {
    "collapsed": false
   }
  },
  {
   "cell_type": "markdown",
   "source": [
    "### Session statistics"
   ],
   "metadata": {
    "collapsed": false
   }
  },
  {
   "cell_type": "code",
   "execution_count": 166,
   "outputs": [
    {
     "name": "stdout",
     "output_type": "stream",
     "text": [
      "shape: (29_612, 1)\n",
      "┌──────────────────┐\n",
      "│ time_between_sec │\n",
      "│ ---              │\n",
      "│ u32              │\n",
      "╞══════════════════╡\n",
      "│ 1798             │\n",
      "│ 1796             │\n",
      "│ 1794             │\n",
      "│ 1794             │\n",
      "│ 1793             │\n",
      "│ …                │\n",
      "│ 0                │\n",
      "│ 0                │\n",
      "│ 0                │\n",
      "│ 0                │\n",
      "│ 0                │\n",
      "└──────────────────┘\n",
      "shape: (9, 2)\n",
      "┌────────────┬──────────────────┐\n",
      "│ statistic  ┆ time_between_sec │\n",
      "│ ---        ┆ ---              │\n",
      "│ str        ┆ f64              │\n",
      "╞════════════╪══════════════════╡\n",
      "│ count      ┆ 29612.0          │\n",
      "│ null_count ┆ 0.0              │\n",
      "│ mean       ┆ 188.485074       │\n",
      "│ std        ┆ 289.407684       │\n",
      "│ min        ┆ 0.0              │\n",
      "│ 25%        ┆ 28.0             │\n",
      "│ 50%        ┆ 77.0             │\n",
      "│ 75%        ┆ 209.0            │\n",
      "│ max        ┆ 1798.0           │\n",
      "└────────────┴──────────────────┘\n"
     ]
    }
   ],
   "source": [
    "time_between_events_in_session = (\n",
    "    train_df\n",
    "    .sort([\"session\", \"timestamp\"])\n",
    "    .with_columns(\n",
    "        next_session = pl.col(\"session\").shift(-1),\n",
    "        next_timestamp = pl.col(\"timestamp\").shift(-1),\n",
    "    )\n",
    "    .with_columns(\n",
    "        time_between_sec = pl.when(pl.col(\"session\") == pl.col(\"next_session\")).then((pl.col(\"next_timestamp\") - pl.col(\"timestamp\"))).otherwise(None)\n",
    "    )\n",
    "    .select(\"time_between_sec\")\n",
    "    .drop_nulls()\n",
    "    .sort(\"time_between_sec\", descending=True)\n",
    ")\n",
    "\n",
    "print(time_between_events_in_session)\n",
    "print(time_between_events_in_session.describe())"
   ],
   "metadata": {
    "collapsed": false
   }
  },
  {
   "cell_type": "markdown",
   "source": [
    "Median time between events is 77 seconds. 75% of events are under 3.48 minutes apart."
   ],
   "metadata": {
    "collapsed": false
   }
  },
  {
   "cell_type": "markdown",
   "source": [
    "### Clicks between carts in sessions"
   ],
   "metadata": {
    "collapsed": false
   }
  },
  {
   "cell_type": "code",
   "execution_count": 243,
   "outputs": [
    {
     "name": "stdout",
     "output_type": "stream",
     "text": [
      "shape: (2_297, 2)\n",
      "┌─────────┬─────────────┐\n",
      "│ session ┆ delta_index │\n",
      "│ ---     ┆ ---         │\n",
      "│ u32     ┆ u32         │\n",
      "╞═════════╪═════════════╡\n",
      "│ 1244937 ┆ 37          │\n",
      "│ 590913  ┆ 29          │\n",
      "│ 1439684 ┆ 28          │\n",
      "│ 1439681 ┆ 27          │\n",
      "│ 663401  ┆ 26          │\n",
      "│ …       ┆ …           │\n",
      "│ 1754411 ┆ 1           │\n",
      "│ 1754411 ┆ 1           │\n",
      "│ 1754411 ┆ 1           │\n",
      "│ 1754411 ┆ 1           │\n",
      "│ 1760179 ┆ 1           │\n",
      "└─────────┴─────────────┘\n",
      "shape: (9, 2)\n",
      "┌────────────┬─────────────┐\n",
      "│ statistic  ┆ delta_index │\n",
      "│ ---        ┆ ---         │\n",
      "│ str        ┆ f64         │\n",
      "╞════════════╪═════════════╡\n",
      "│ count      ┆ 2297.0      │\n",
      "│ null_count ┆ 0.0         │\n",
      "│ mean       ┆ 2.972138    │\n",
      "│ std        ┆ 3.304008    │\n",
      "│ min        ┆ 1.0         │\n",
      "│ 25%        ┆ 1.0         │\n",
      "│ 50%        ┆ 2.0         │\n",
      "│ 75%        ┆ 3.0         │\n",
      "│ max        ┆ 37.0        │\n",
      "└────────────┴─────────────┘\n"
     ]
    }
   ],
   "source": [
    "clicks_between_carts = (\n",
    "    train_df\n",
    "    .sort([\"session\", \"timestamp\"], descending=[False, False])\n",
    "    .drop([\"visitorid\", \"transactionid\"])\n",
    "    # Remove purchases\n",
    "    .filter(pl.col(\"event\") != \"transaction\")\n",
    "    .with_columns(\n",
    "        next_itemid = pl.col(\"itemid\").shift(-1),\n",
    "        next_event = pl.col(\"event\").shift(-1),\n",
    "        next_session = pl.col(\"session\").shift(-1)\n",
    "    )\n",
    "    .filter(pl.col(\"session\") == pl.col(\"next_session\"))\n",
    "    # Remove items carted multiple times at once\n",
    "    .filter(pl.when((pl.col(\"event\") == \"addtocart\") & (pl.col(\"next_event\") == \"addtocart\") & (pl.col(\"itemid\") == pl.col(\"next_itemid\"))).then(False).otherwise(True))\n",
    "    .drop([\"next_itemid\", \"next_event\", \"next_session\"])\n",
    "    # Add index to the dataframe\n",
    "    .with_row_index()\n",
    "    # Remove views\n",
    "    .filter(pl.col(\"event\") == \"addtocart\")\n",
    "    # Find delta index between cart or order events\n",
    "    .with_columns(\n",
    "        next_index = pl.col(\"index\").shift(-1),\n",
    "        next_session = pl.col(\"session\").shift(-1)\n",
    "    )\n",
    "    .filter(pl.col(\"session\") == pl.col(\"next_session\"))\n",
    "    .with_columns(\n",
    "        delta_index=(pl.col(\"next_index\") - pl.col(\"index\")).cast(pl.UInt32)\n",
    "    )\n",
    "    .drop([\"itemid\", \"timestamp\", \"event\", \"index\", \"next_index\", \"next_session\"])\n",
    "    .sort(\"delta_index\", descending=True)\n",
    ")\n",
    "\n",
    "print(clicks_between_carts)\n",
    "print(clicks_between_carts.select(\"delta_index\").describe())"
   ],
   "metadata": {
    "collapsed": false
   }
  },
  {
   "cell_type": "markdown",
   "source": [
    "Median time (delta index) between cart events is 2. Mean is 2.97."
   ],
   "metadata": {
    "collapsed": false
   }
  },
  {
   "cell_type": "markdown",
   "source": [
    "### Clicks between orders in sessions"
   ],
   "metadata": {
    "collapsed": false
   }
  },
  {
   "cell_type": "code",
   "execution_count": 284,
   "outputs": [
    {
     "name": "stdout",
     "output_type": "stream",
     "text": [
      "shape: (494, 1)\n",
      "┌─────────────┐\n",
      "│ delta_index │\n",
      "│ ---         │\n",
      "│ u32         │\n",
      "╞═════════════╡\n",
      "│ 2           │\n",
      "│ 12          │\n",
      "│ 2           │\n",
      "│ 6           │\n",
      "│ 6           │\n",
      "│ …           │\n",
      "│ 1           │\n",
      "│ 2           │\n",
      "│ 1           │\n",
      "│ 2           │\n",
      "│ 4           │\n",
      "└─────────────┘\n",
      "shape: (9, 2)\n",
      "┌────────────┬─────────────┐\n",
      "│ statistic  ┆ delta_index │\n",
      "│ ---        ┆ ---         │\n",
      "│ str        ┆ f64         │\n",
      "╞════════════╪═════════════╡\n",
      "│ count      ┆ 494.0       │\n",
      "│ null_count ┆ 0.0         │\n",
      "│ mean       ┆ 5.601215    │\n",
      "│ std        ┆ 5.578945    │\n",
      "│ min        ┆ 1.0         │\n",
      "│ 25%        ┆ 2.0         │\n",
      "│ 50%        ┆ 4.0         │\n",
      "│ 75%        ┆ 7.0         │\n",
      "│ max        ┆ 40.0        │\n",
      "└────────────┴─────────────┘\n"
     ]
    }
   ],
   "source": [
    "clicks_between_orders = (\n",
    "    train_df\n",
    "    .sort([\"session\", \"timestamp\"], descending=[False, False])\n",
    "    .drop([\"visitorid\", \"itemid\"])\n",
    "    # Remove carts\n",
    "    .filter(pl.col(\"event\") != \"addtocart\")\n",
    "    .unique(maintain_order=True)\n",
    "    .with_row_index()\n",
    "    .filter(pl.col(\"event\") == \"transaction\")\n",
    "    .with_columns(\n",
    "        next_session = pl.col(\"session\").shift(-1),\n",
    "        next_index = pl.col(\"index\").shift(-1),\n",
    "    )\n",
    "    .filter(pl.col(\"session\") == pl.col(\"next_session\"))\n",
    "    .with_columns(\n",
    "        delta_index=(pl.col(\"next_index\") - pl.col(\"index\")).cast(pl.UInt32)\n",
    "    )\n",
    "    .drop([\"index\", \"timestamp\", \"event\", \"transactionid\", \"session\", \"next_session\", \"next_index\"])\n",
    ")\n",
    "\n",
    "print(clicks_between_orders)\n",
    "print(clicks_between_orders.select(\"delta_index\").describe())"
   ],
   "metadata": {
    "collapsed": false
   }
  },
  {
   "cell_type": "markdown",
   "source": [
    "Median time (delta index) between order events is 4. Mean is 5.6."
   ],
   "metadata": {
    "collapsed": false
   }
  }
 ],
 "metadata": {
  "kernelspec": {
   "display_name": "Python 3",
   "language": "python",
   "name": "python3"
  },
  "language_info": {
   "codemirror_mode": {
    "name": "ipython",
    "version": 2
   },
   "file_extension": ".py",
   "mimetype": "text/x-python",
   "name": "python",
   "nbconvert_exporter": "python",
   "pygments_lexer": "ipython2",
   "version": "2.7.6"
  }
 },
 "nbformat": 4,
 "nbformat_minor": 0
}
